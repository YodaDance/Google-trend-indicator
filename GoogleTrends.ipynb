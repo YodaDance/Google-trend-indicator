{
 "cells": [
  {
   "cell_type": "code",
   "execution_count": 2,
   "id": "212bfb05",
   "metadata": {},
   "outputs": [],
   "source": [
    "from selenium import webdriver\n",
    "from selenium.webdriver.common.keys import Keys\n",
    "from selenium.webdriver.common.by import By\n",
    "from selenium.webdriver.support.ui import WebDriverWait\n",
    "from selenium.webdriver.support import expected_conditions as EC\n",
    "\n",
    "from datetime import datetime\n",
    "import time\n",
    "import numpy as np\n",
    "import pandas as pd\n",
    "import os\n",
    "\n",
    "# from matplotlib import pyplot as plt\n",
    "# import plotly.express as px\n",
    "# %matplotlib inline"
   ]
  },
  {
   "cell_type": "code",
   "execution_count": 3,
   "id": "b5f8bdd9",
   "metadata": {},
   "outputs": [],
   "source": [
    "def create_year_halfs(years: list):\n",
    "    '''Обычный ленивый скрипт для создания дат по формату американского времени для гугл трендов'''\n",
    "    \n",
    "    dates, sorted_years = [], sorted(years)\n",
    "    quarters = ['-06-30', '-12-31']\n",
    "    \n",
    "    start_date = str(sorted_years[0]) + '-01-01' # добавляем стартовую точку для нащего периода\n",
    "    \n",
    "    for year in sorted_years: \n",
    "        quarters_year = [str(year) + date for date in quarters]\n",
    "        dates.extend(quarters_year)\n",
    "    \n",
    "    dates.insert(0, start_date) # вставляем start_date в начало списка\n",
    "    # например, если года 2007-2008, то вернет список ['2007-01-01', '2007-06-30', '2007-12-31', '2008-06-30', '2008-12-31']\n",
    "    return dates\n",
    "\n",
    "\n",
    "def download_csv(link: str, sleep_time=15, wait_button_time=120):\n",
    "    '''Используем билиотеку selenium для автоматического открытия заданной ссылки\n",
    "       Гугл трендов, робот нажимает на кнопку скачать и закрывает браузер'''\n",
    "    \n",
    "    \n",
    "    # открываем драйвер гугла в этой же директории\n",
    "    driver = webdriver.Chrome(executable_path='./chromedriver')\n",
    "    time.sleep(5)\n",
    "    \n",
    "    # открываем гугл\n",
    "    driver.get('https://www.google.ru')\n",
    "    time.sleep(sleep_time)\n",
    "    \n",
    "    # открываем ссылку гугл трендов по нашему запросу в гугле\n",
    "    driver.get(link)\n",
    "    time.sleep(sleep_time)\n",
    "    \n",
    "    # ждем, пока кнопку можно будет нажать\n",
    "    button = WebDriverWait(driver, wait_button_time).until(EC.element_to_be_clickable(\n",
    "        (By.CSS_SELECTOR, '.widget-actions-item.export')))\n",
    "    \n",
    "    # скачиваем файл\n",
    "    button.click()\n",
    "    time.sleep(5)\n",
    "    \n",
    "    # закрываем браузер\n",
    "    driver.close()\n",
    "    pass\n",
    "\n",
    "\n",
    "def drop_days_columns(df: pd.DataFrame):\n",
    "    # выдает список столбцов, которые содержат День_ и удаляет их из датафрейма\n",
    "    df.rename(columns={'День_0': 'Дата'}, inplace=True)\n",
    "    columns_to_drop = [column for column in df.columns.tolist() if 'День_' in column]\n",
    "    df.drop(labels=columns_to_drop, axis=1, inplace=True)\n",
    "    pass\n",
    "\n",
    "\n",
    "def create_excel_region(ural_regions: dict, years: list, queries: list, path='/Users/ska19/Downloads'):\n",
    "    ''' Принимает на вход словарь ural_regions: ключ название региона и его код в виде RU-XXX, \n",
    "        который будет вставляться в ссылку.\n",
    "        Затем список годов years, которые Вам нужны для подкачки.\n",
    "        И последне queries - слова, по которым вы хотите посмотреть поисковую активность.\n",
    "        path - ваш путь к папке, куда по умолчанию скачиваются файлы.\n",
    "        Данный скрипт скачивает ежедневные данные с сайта Гугл тренды, собирает их в датафрейм и затем сохраняет\n",
    "        в виде эксель файла.'''\n",
    "    \n",
    "\n",
    "    dates = create_year_halfs(years) # создаем кварталы\n",
    "    today = pd.Timestamp(datetime.today().date()) # дата на сегодня\n",
    "    \n",
    "    for key, value in ural_regions.items():  # идем по каждому региону\n",
    "        df_region = pd.DataFrame()\n",
    "        \n",
    "        for i in range(0, len(queries), 5): # создаем запрос из 5 слов, это максимум для гугл трендов\n",
    "            words = queries[i:i+5] # берем 5 слов\n",
    "            query = ','.join(words)\n",
    "            df_query = pd.DataFrame() # сюда заносим вывод на конкретный регион и запрос по кварталам\n",
    "            \n",
    "            \n",
    "            for j in range(0, len(dates)-1):  # идем по полугодиям + 1 день назад из прошлого полугодия\n",
    "                # нам нужно, что бы новое полугодие не выходило за рамки сегодняшней даты\n",
    "                if today < pd.to_datetime(dates[j], yearfirst=True):\n",
    "                    print(f\"Date {dates[j]} is the future, today is {today}\")\n",
    "                    continue\n",
    "                    \n",
    "                # скачиваем файл по ссылке   \n",
    "                link_to_open = f'https://trends.google.ru/trends/explore?date={dates[j]}%20{dates[j+1]}&geo={value}&q={query}'\n",
    "                download_csv(link_to_open)\n",
    "                \n",
    "                # теперь работаем с самим файлом\n",
    "                df_quarter = pd.read_csv(path + '/multiTimeline.csv', header=1) # открываем скачанный файл\n",
    "                df_query = pd.concat([df_query, df_quarter], axis=0, ignore_index=True) # накладывает фремы друг на друга\n",
    "                os.remove(path + '/multiTimeline.csv') # удаляем файл, чтобы программа могла прочитать следующий при подкачке\n",
    "            \n",
    "            day_column_rename = f'День_{i}' # переименовываем дни для теста\n",
    "            df_query.rename(columns={'День': day_column_rename}, inplace=True)\n",
    "            df_region.index = df_query.index # для метода join нужно, что бы индексы совпадали\n",
    "            df_region = df_region.join(df_query) # добавляем новые запросы к старым по индексу (индексы должны совпадать XD)\n",
    "        \n",
    "        drop_days_columns(df_region) # лишние колонки с датой\n",
    "        \n",
    "        df_region.replace(to_replace='<1', value=0.5, inplace=True) # заменяем <1 для приведения столбцов к числовому формату\n",
    "        df_region['Дата'] = pd.to_datetime(df_region['Дата']) # делаем формат даты\n",
    "        columns_for_numeric = df_region.drop('Дата', axis=1).columns # колонки для преобразования к числовому формату\n",
    "        df_region[columns_for_numeric] = df_region[columns_for_numeric].apply(pd.to_numeric) # преобразуем в числовой\n",
    "        \n",
    "        # df_region.to_csv(f'{key}_trends.csv') # можете сохранять в виде csv, если хотите\n",
    "        df_region.to_excel(excel_writer=f'{key}_trends.xlsx', index=False) # сохраняем тренды региона в эксельку\n",
    "        pass"
   ]
  },
  {
   "cell_type": "code",
   "execution_count": 8,
   "id": "099e98e6",
   "metadata": {},
   "outputs": [],
   "source": [
    "years = list(range(2008, 2023)) \n",
    "\n",
    "ural_regions = {'Свердловская область': 'RU-SVE', 'Курганская область': 'RU-KGN', 'Тюменская область': 'RU-TYU',\n",
    "                'ХМАО': 'RU-KHM', 'ЯНАО': 'RU-YAN', 'Челябинская область': 'RU-CHE', 'Республика Башкортостан':'RU-BA', \n",
    "                'Пермский край': 'RU-PER', 'Оренбургская область': 'RU-ORE'}\n",
    "\n",
    "#ural_regions = {'Свердловская область': 'RU-SVE'}\n",
    "\n",
    "queries = ['работа', 'вакансии', 'пособия по безработице']"
   ]
  },
  {
   "cell_type": "code",
   "execution_count": 104,
   "id": "07955334",
   "metadata": {
    "scrolled": true
   },
   "outputs": [
    {
     "name": "stderr",
     "output_type": "stream",
     "text": [
      "C:\\Users\\ska19\\AppData\\Local\\Temp/ipykernel_6180/2478150312.py:24: DeprecationWarning: executable_path has been deprecated, please pass in a Service object\n",
      "  driver = webdriver.Chrome(executable_path='./chromedriver')\n"
     ]
    },
    {
     "name": "stdout",
     "output_type": "stream",
     "text": [
      "Date 2022-06-30 is the future, today is 2022-06-08 00:00:00\n",
      "Date 2022-06-30 is the future, today is 2022-06-08 00:00:00\n"
     ]
    }
   ],
   "source": [
    "create_excel_region(ural_regions, years, queries)"
   ]
  },
  {
   "cell_type": "code",
   "execution_count": 9,
   "id": "c9828155",
   "metadata": {},
   "outputs": [
    {
     "ename": "TypeError",
     "evalue": "unhashable type: 'slice'",
     "output_type": "error",
     "traceback": [
      "\u001b[1;31m---------------------------------------------------------------------------\u001b[0m",
      "\u001b[1;31mTypeError\u001b[0m                                 Traceback (most recent call last)",
      "\u001b[1;32m~\\AppData\\Local\\Temp/ipykernel_13360/3689317803.py\u001b[0m in \u001b[0;36m<module>\u001b[1;34m\u001b[0m\n\u001b[1;32m----> 1\u001b[1;33m \u001b[0mural_regions\u001b[0m\u001b[1;33m[\u001b[0m\u001b[1;36m0\u001b[0m\u001b[1;33m:\u001b[0m\u001b[1;36m4\u001b[0m\u001b[1;33m]\u001b[0m\u001b[1;33m\u001b[0m\u001b[1;33m\u001b[0m\u001b[0m\n\u001b[0m",
      "\u001b[1;31mTypeError\u001b[0m: unhashable type: 'slice'"
     ]
    }
   ],
   "source": [
    "ural_regions[0:4]"
   ]
  },
  {
   "cell_type": "code",
   "execution_count": null,
   "id": "1fdc5555",
   "metadata": {},
   "outputs": [],
   "source": []
  }
 ],
 "metadata": {
  "kernelspec": {
   "display_name": "Python 3 (ipykernel)",
   "language": "python",
   "name": "python3"
  },
  "language_info": {
   "codemirror_mode": {
    "name": "ipython",
    "version": 3
   },
   "file_extension": ".py",
   "mimetype": "text/x-python",
   "name": "python",
   "nbconvert_exporter": "python",
   "pygments_lexer": "ipython3",
   "version": "3.9.7"
  },
  "toc": {
   "base_numbering": 1,
   "nav_menu": {},
   "number_sections": true,
   "sideBar": true,
   "skip_h1_title": false,
   "title_cell": "Table of Contents",
   "title_sidebar": "Contents",
   "toc_cell": false,
   "toc_position": {},
   "toc_section_display": true,
   "toc_window_display": false
  }
 },
 "nbformat": 4,
 "nbformat_minor": 5
}
